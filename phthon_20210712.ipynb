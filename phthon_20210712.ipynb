{
  "nbformat": 4,
  "nbformat_minor": 0,
  "metadata": {
    "colab": {
      "name": "phthon_20210712.ipynb",
      "provenance": [],
      "authorship_tag": "ABX9TyP1O5nHaheK55bFbE5A366b",
      "include_colab_link": true
    },
    "kernelspec": {
      "name": "python3",
      "display_name": "Python 3"
    },
    "language_info": {
      "name": "python"
    }
  },
  "cells": [
    {
      "cell_type": "markdown",
      "metadata": {
        "id": "view-in-github",
        "colab_type": "text"
      },
      "source": [
        "<a href=\"https://colab.research.google.com/github/jwyun52/202105_itw_bd26/blob/main/phthon_20210712.ipynb\" target=\"_parent\"><img src=\"https://colab.research.google.com/assets/colab-badge.svg\" alt=\"Open In Colab\"/></a>"
      ]
    },
    {
      "cell_type": "code",
      "metadata": {
        "colab": {
          "base_uri": "https://localhost:8080/"
        },
        "id": "258Wu8vULUya",
        "outputId": "52b7809a-1286-4a32-91c8-6559adaebad9"
      },
      "source": [
        "# 주석(comment)\n",
        "# 코드 셀(code sell) - 코드 작성, 실행\n",
        "print('Hello, Python!')\n",
        "print('안녕하세요...')"
      ],
      "execution_count": 6,
      "outputs": [
        {
          "output_type": "stream",
          "text": [
            "Hello, Python!\n",
            "안녕하세요...\n"
          ],
          "name": "stdout"
        }
      ]
    },
    {
      "cell_type": "code",
      "metadata": {
        "id": "-FbuVPzWUWmj"
      },
      "source": [
        ""
      ],
      "execution_count": null,
      "outputs": []
    },
    {
      "cell_type": "markdown",
      "metadata": {
        "id": "NDzsGLtDQbEc"
      },
      "source": [
        "**텍스트 셀**\n",
        "\n",
        "*  코드 셀 실행 방법:\n",
        "    *   실행버튼 클릭\n",
        "    *   Ctrl+Enter: 현재 커서가 위치한 코드 셀을 실행\n",
        "    *   Shift+Enter: 현재 커서가 위치한 코드 셀을 실행하고, 커서를 다음 코드 셀 또는 텍스트 셀로 이동. 만약 밑에 (코드 or 텍스트) 셀이 없는 경우 새로운 코드 셀을 만들어줌.\n",
        "    *   Alt+Enter: 현재 커서가 위치한 코드 셀을 실행하고, 현재 셀 밑에 새로운 코드 셀을 만들어 줌.\n",
        "\n"
      ]
    },
    {
      "cell_type": "code",
      "metadata": {
        "id": "lw0dBnUAQXFk"
      },
      "source": [
        ""
      ],
      "execution_count": null,
      "outputs": []
    }
  ]
}